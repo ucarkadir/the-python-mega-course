{
 "cells": [
  {
   "cell_type": "code",
   "execution_count": 105,
   "metadata": {},
   "outputs": [
    {
     "ename": "AttributeError",
     "evalue": "'Resources' object has no attribute 'css_resources'",
     "output_type": "error",
     "traceback": [
      "\u001b[1;31m-------------------------------------------------------------------------\u001b[0m",
      "\u001b[1;31mAttributeError\u001b[0m                          Traceback (most recent call last)",
      "\u001b[1;32m<ipython-input-105-45bfcba792d5>\u001b[0m in \u001b[0;36m<module>\u001b[1;34m\u001b[0m\n\u001b[0;32m     56\u001b[0m \u001b[1;33m\u001b[0m\u001b[0m\n\u001b[0;32m     57\u001b[0m \u001b[0mcdn_js\u001b[0m\u001b[1;33m=\u001b[0m\u001b[0mCDN\u001b[0m\u001b[1;33m.\u001b[0m\u001b[0mjs_files\u001b[0m\u001b[1;33m\u001b[0m\u001b[0m\n\u001b[1;32m---> 58\u001b[1;33m \u001b[0mcdn_css\u001b[0m\u001b[1;33m=\u001b[0m\u001b[0mCDN\u001b[0m\u001b[1;33m.\u001b[0m\u001b[0mcss_resources\u001b[0m\u001b[1;33m\u001b[0m\u001b[0m\n\u001b[0m\u001b[0;32m     59\u001b[0m \u001b[1;33m\u001b[0m\u001b[0m\n\u001b[0;32m     60\u001b[0m \u001b[1;33m\u001b[0m\u001b[0m\n",
      "\u001b[1;31mAttributeError\u001b[0m: 'Resources' object has no attribute 'css_resources'"
     ]
    }
   ],
   "source": [
    "from pandas_datareader import data\n",
    "import datetime\n",
    "from bokeh.plotting import figure, show, output_file\n",
    "from bokeh.embed import components \n",
    "from bokeh.resources import CDN\n",
    "\n",
    "\n",
    "start=datetime.datetime(2015,11,1)\n",
    "end=datetime.datetime(2016,3,10)\n",
    "\n",
    "df = data.DataReader(name=\"GOOG\", data_source=\"yahoo\", start=start, end=end)\n",
    "df\n",
    "\n",
    "# type(df)\n",
    "\n",
    "def inc_dec(c, o):\n",
    "    if c > o:\n",
    "        value=\"Increase\"\n",
    "    elif c < o:\n",
    "        value=\"Decrease\"\n",
    "    else:\n",
    "        vlaue=\"Equal\"\n",
    "    return value\n",
    "        \n",
    "    \n",
    "df['Status']=[inc_dec(c,o) for c,o in zip(df.Close, df.Open)]\n",
    "df['Middle']=(df.Open+df.Close)/2\n",
    "df['Height']=abs(df.Close-df.Open)\n",
    "df\n",
    "\n",
    "type(date_increase)\n",
    "type(date_recrease)\n",
    "\n",
    "p = figure(x_axis_type='datetime', width = 1000, height = 300, \n",
    "           sizing_mode='scale_width'  )\n",
    "p.title.text = \"Candlestick Chart\"\n",
    "p.grid.grid_line_alpha=0.3\n",
    "\n",
    "hours_12=12*60*60*1000\n",
    "\n",
    "p.segment(df.index, df.High, df.index, df.Low, color=\"Black\" )\n",
    "\n",
    "p.rect(df.index[df.Status==\"Increase\"], \n",
    "       df.Middle[df.Status==\"Increase\"], \n",
    "       hours_12, \n",
    "       df.Height[df.Status==\"Increase\"],\n",
    "       fill_color=\"#F0F8FF\", line_color=\"black\")\n",
    "\n",
    "p.rect(df.index[df.Status==\"Decrease\"], \n",
    "       df.Middle[df.Status==\"Decrease\"], \n",
    "       hours_12,\n",
    "       df.Height[df.Status==\"Decrease\"],\n",
    "       fill_color=\"#00FFFF\", line_color=\"black\")\n",
    "\n",
    "script1, div1 = components(p)\n",
    "\n",
    "cdn_js=CDN.js_files\n",
    "cdn_css=CDN.css_resources \n",
    "\n",
    "\n",
    "# output_file(\"Cs.html\")\n",
    "# show(p)"
   ]
  },
  {
   "cell_type": "code",
   "execution_count": null,
   "metadata": {},
   "outputs": [],
   "source": [
    "print(script1)"
   ]
  },
  {
   "cell_type": "code",
   "execution_count": 97,
   "metadata": {},
   "outputs": [
    {
     "name": "stdout",
     "output_type": "stream",
     "text": [
      "\n",
      "<div class=\"bk-root\" id=\"6e483dc5-99f2-4226-96b1-0c04a1ce7934\" data-root-id=\"5243\"></div>\n"
     ]
    }
   ],
   "source": [
    "print(div1)"
   ]
  },
  {
   "cell_type": "code",
   "execution_count": 101,
   "metadata": {},
   "outputs": [
    {
     "data": {
      "text/plain": [
       "'https://cdn.pydata.org/bokeh/release/bokeh-1.3.1.min.js'"
      ]
     },
     "execution_count": 101,
     "metadata": {},
     "output_type": "execute_result"
    }
   ],
   "source": [
    "cdn_js[0]"
   ]
  },
  {
   "cell_type": "code",
   "execution_count": 104,
   "metadata": {},
   "outputs": [
    {
     "ename": "SyntaxError",
     "evalue": "invalid syntax (<ipython-input-104-f924ede734e6>, line 1)",
     "output_type": "error",
     "traceback": [
      "\u001b[1;36m  File \u001b[1;32m\"<ipython-input-104-f924ede734e6>\"\u001b[1;36m, line \u001b[1;32m1\u001b[0m\n\u001b[1;33m    cdn_css[]\u001b[0m\n\u001b[1;37m            ^\u001b[0m\n\u001b[1;31mSyntaxError\u001b[0m\u001b[1;31m:\u001b[0m invalid syntax\n"
     ]
    }
   ],
   "source": [
    "cdn_css[]"
   ]
  }
 ],
 "metadata": {
  "kernelspec": {
   "display_name": "Python 3",
   "language": "python",
   "name": "python3"
  },
  "language_info": {
   "codemirror_mode": {
    "name": "ipython",
    "version": 3
   },
   "file_extension": ".py",
   "mimetype": "text/x-python",
   "name": "python",
   "nbconvert_exporter": "python",
   "pygments_lexer": "ipython3",
   "version": "3.7.0"
  }
 },
 "nbformat": 4,
 "nbformat_minor": 2
}
