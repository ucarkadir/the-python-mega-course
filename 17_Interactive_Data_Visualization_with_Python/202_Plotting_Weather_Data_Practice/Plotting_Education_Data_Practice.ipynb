{
 "cells": [
  {
   "cell_type": "code",
   "execution_count": 1,
   "metadata": {},
   "outputs": [],
   "source": [
    "import pandas\n",
    " \n",
    "from bokeh.plotting import figure, output_file, show\n",
    " \n",
    "df=pandas.read_excel(\"http://pythonhow.com/data/verlegenhuken.xlsx\",sheet_name=0)\n",
    "df[\"Temperature\"]=df[\"Temperature\"]/10\n",
    "df[\"Pressure\"]=df[\"Pressure\"]/10\n",
    " \n",
    "p=figure(plot_width=500,plot_height=400,tools='pan')\n",
    " \n",
    "p.title.text=\"Temperature and Air Pressure\"\n",
    "p.title.text_color=\"Gray\"\n",
    "p.title.text_font=\"arial\"\n",
    "p.title.text_font_style=\"bold\"\n",
    "p.xaxis.minor_tick_line_color=None\n",
    "p.yaxis.minor_tick_line_color=None\n",
    "p.xaxis.axis_label=\"Temperature (°C)\"\n",
    "p.yaxis.axis_label=\"Pressure (hPa)\"    \n",
    " \n",
    "p.circle(df[\"Temperature\"],df[\"Pressure\"],size=0.5)\n",
    "output_file(\"Weather.html\")\n",
    "show(p)"
   ]
  }
 ],
 "metadata": {
  "kernelspec": {
   "display_name": "Python 3",
   "language": "python",
   "name": "python3"
  },
  "language_info": {
   "codemirror_mode": {
    "name": "ipython",
    "version": 3
   },
   "file_extension": ".py",
   "mimetype": "text/x-python",
   "name": "python",
   "nbconvert_exporter": "python",
   "pygments_lexer": "ipython3",
   "version": "3.7.0"
  }
 },
 "nbformat": 4,
 "nbformat_minor": 2
}
